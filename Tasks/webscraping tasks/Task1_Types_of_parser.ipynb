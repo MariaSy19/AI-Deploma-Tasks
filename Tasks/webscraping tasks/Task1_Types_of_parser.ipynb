{
 "cells": [
  {
   "cell_type": "markdown",
   "metadata": {},
   "source": [
    "# Types of parser"
   ]
  },
  {
   "cell_type": "markdown",
   "metadata": {},
   "source": [
    "### 1- html.parser:\n",
    "\n",
    " is a built-in HTML parser that comes with Python. It is a tool that helps you extract information from HTML code. \n",
    " \n",
    " Think of HTML as the language websites use to structure and present information."
   ]
  },
  {
   "cell_type": "markdown",
   "metadata": {},
   "source": [
    "### 2- lxml:\n",
    "is another HTML and XML parser, but it's different from the built-in html.parser in Python. \n",
    "\n",
    "It's a more powerful and faster external library that you can use to parse and manipulate HTML and XML documents."
   ]
  },
  {
   "cell_type": "markdown",
   "metadata": {},
   "source": [
    "### 3- html5lib:\n",
    " is another HTML parser that you can use with BeautifulSoup in Python.\n",
    "\n",
    " Just like html.parser, it helps you understand and extract information\n",
    " \n",
    " from HTML code, but it follows the HTML5 specification more closely."
   ]
  }
 ],
 "metadata": {
  "kernelspec": {
   "display_name": "Python 3",
   "language": "python",
   "name": "python3"
  },
  "language_info": {
   "name": "python",
   "version": "0.0.0"
  }
 },
 "nbformat": 4,
 "nbformat_minor": 2
}
