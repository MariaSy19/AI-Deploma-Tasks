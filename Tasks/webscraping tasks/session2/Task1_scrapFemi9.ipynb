{
 "cells": [
  {
   "cell_type": "markdown",
   "metadata": {},
   "source": [
    "# Femi9"
   ]
  },
  {
   "cell_type": "code",
   "execution_count": 1,
   "metadata": {},
   "outputs": [],
   "source": [
    "import requests\n",
    "from bs4 import BeautifulSoup\n",
    "import csv"
   ]
  },
  {
   "cell_type": "code",
   "execution_count": 2,
   "metadata": {},
   "outputs": [],
   "source": [
    "url = 'https://www.femi9egypt.com/en_US/collection?taxons=Dresses&page={}'"
   ]
  },
  {
   "cell_type": "code",
   "execution_count": 3,
   "metadata": {},
   "outputs": [
    {
     "data": {
      "text/plain": [
       "<Response [200]>"
      ]
     },
     "execution_count": 3,
     "metadata": {},
     "output_type": "execute_result"
    }
   ],
   "source": [
    "requests.get(url)"
   ]
  },
  {
   "cell_type": "code",
   "execution_count": 4,
   "metadata": {},
   "outputs": [],
   "source": [
    "csv_file = 'data.csv'"
   ]
  },
  {
   "cell_type": "code",
   "execution_count": 14,
   "metadata": {},
   "outputs": [],
   "source": [
    "webData = []\n",
    "pagenum = 0\n",
    "\n",
    "while True:\n",
    "    results = requests.get(url.format(pagenum))\n",
    "    content = results.content\n",
    "    website = BeautifulSoup(content, 'html.parser')\n",
    "\n",
    "    pagelimit_element = website.find('div', {'class': 'pagination__pages'})\n",
    "\n",
    "    if pagelimit_element:\n",
    "        pagelimit = int(pagelimit_element.text.strip())\n",
    "    else:\n",
    "        pagelimit = 10\n",
    "\n",
    "    titledress = website.find_all(\"a\", {'class': 'm-0'})\n",
    "    salary = website.find_all('div', {'class': 'price__sale'})\n",
    "\n",
    "    for i in range(len(titledress)):\n",
    "        title = titledress[i].text.strip()\n",
    "\n",
    "        # Check if salary information is available\n",
    "        if i < len(salary):\n",
    "            salary_info = salary[i].text.strip()\n",
    "        else:\n",
    "            salary_info = 'N/A'\n",
    "\n",
    "        webData.append([title, salary_info])\n",
    "\n",
    "    if pagenum >= pagelimit:\n",
    "        break\n",
    "\n",
    "    pagenum += 1"
   ]
  },
  {
   "cell_type": "code",
   "execution_count": 12,
   "metadata": {},
   "outputs": [],
   "source": [
    "# Writing to CSV\n",
    "with open(csv_file, 'w', newline='', encoding='utf-8') as file:\n",
    "    writer = csv.writer(file)\n",
    "    writer.writerow(['Title', 'Salary'])  # Header\n",
    "    writer.writerows(webData)"
   ]
  }
 ],
 "metadata": {
  "kernelspec": {
   "display_name": "Python 3",
   "language": "python",
   "name": "python3"
  },
  "language_info": {
   "codemirror_mode": {
    "name": "ipython",
    "version": 3
   },
   "file_extension": ".py",
   "mimetype": "text/x-python",
   "name": "python",
   "nbconvert_exporter": "python",
   "pygments_lexer": "ipython3",
   "version": "3.12.1"
  }
 },
 "nbformat": 4,
 "nbformat_minor": 2
}
