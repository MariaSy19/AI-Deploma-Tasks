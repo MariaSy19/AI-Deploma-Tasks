{
 "cells": [
  {
   "cell_type": "markdown",
   "metadata": {},
   "source": [
    "# Shenin"
   ]
  },
  {
   "cell_type": "code",
   "execution_count": null,
   "metadata": {},
   "outputs": [],
   "source": [
    "import requests\n",
    "from bs4 import BeautifulSoup\n",
    "import csv"
   ]
  },
  {
   "cell_type": "code",
   "execution_count": null,
   "metadata": {},
   "outputs": [],
   "source": [
    "url = 'https://ar.shein.com/Women-Clothing-c-2030.html?src_module=All&src_identifier=on%3DIMAGE_COMPONENT%60cn%3Dcat%60hz%3DhotZone_1%60ps%3D5_1%60jc%3Dreal_2030&src_tab_page_id=page_home1707116078102&ici=CCCSN%3DAll_ON%3DIMAGE_COMPONENT_OI%3D15965982_CN%3DONE_IMAGE_COMPONENT_TI%3D50001_aod%3Dhttps://ar.shein.com/Women-Clothing-c-2030.html?src_module=All&src_identifier=on%3DIMAGE_COMPONENT%60cn%3Dcat%60hz%3DhotZone_1%60ps%3D5_1%60jc%3Dreal_2030&src_tab_page_id=page_home1707116078102&ici=CCCSN%3DAll_ON%3DIMAGE_COMPONENT_OI%3D15965982_CN%3DONE_IMAGE_COMPONENT_TI%3D50001_aod%3D0_PS%3D5-1_ABT%3D0&page={}0_PS%3D5-1_ABT%3D0'"
   ]
  },
  {
   "cell_type": "code",
   "execution_count": null,
   "metadata": {},
   "outputs": [],
   "source": [
    "csv_file = 'data.csv'"
   ]
  },
  {
   "cell_type": "code",
   "execution_count": null,
   "metadata": {},
   "outputs": [],
   "source": [
    "response = requests.get(url)\n",
    "response"
   ]
  },
  {
   "cell_type": "code",
   "execution_count": null,
   "metadata": {},
   "outputs": [],
   "source": [
    "html_content = response.content\n",
    "#html_content"
   ]
  },
  {
   "cell_type": "code",
   "execution_count": null,
   "metadata": {},
   "outputs": [],
   "source": [
    "website = BeautifulSoup(html_content,'html.parser')\n",
    "#website"
   ]
  },
  {
   "cell_type": "code",
   "execution_count": null,
   "metadata": {},
   "outputs": [],
   "source": [
    "title = website.find_all('div',{'class':'product-card__goods-title-container'})\n",
    "#title"
   ]
  },
  {
   "cell_type": "code",
   "execution_count": null,
   "metadata": {},
   "outputs": [],
   "source": [
    "'''for t in title:\n",
    "    text = t.a.text.strip()\n",
    "    print(text)'''"
   ]
  },
  {
   "cell_type": "code",
   "execution_count": null,
   "metadata": {},
   "outputs": [],
   "source": [
    "salaries = website.find_all('p', {'class': 'product-item__camecase-wrap'})\n",
    "#salaries"
   ]
  },
  {
   "cell_type": "code",
   "execution_count": null,
   "metadata": {},
   "outputs": [],
   "source": [
    "'''\n",
    "for sal in salaries:\n",
    "    t = sal.span.text.strip()\n",
    "    print(t)\n",
    "    '''"
   ]
  },
  {
   "cell_type": "code",
   "execution_count": null,
   "metadata": {},
   "outputs": [],
   "source": [
    "rate = website.find_all('div', {'class': 'product-card__selling-proposition-star'})\n",
    "#rate"
   ]
  },
  {
   "cell_type": "code",
   "execution_count": null,
   "metadata": {},
   "outputs": [],
   "source": [
    "# Find the div containing star information\n",
    "star_div = website.find('div', {'class': 'product-card__selling-proposition-star'})\n",
    "\n",
    "stars_count = len(star_div.find_all('i', {'class': 'suiiconfont-critical suiiconfont sui_icon_star_5_16px_1'}))\n",
    "\n",
    "print(f\"Number of stars: {stars_count}\")"
   ]
  },
  {
   "cell_type": "code",
   "execution_count": null,
   "metadata": {},
   "outputs": [],
   "source": [
    "star_div = website.find('div', {'class': 'product-card__selling-proposition-star'})\n",
    "\n",
    "# Extract the text content from the 'p' element\n",
    "ratings_text = star_div.find('p', {'class': 'start-text'}).text\n",
    "\n",
    "# Extract the number of ratings using regular expressions\n",
    "import re\n",
    "ratings_count = int(re.search(r'\\d+', ratings_text).group())\n",
    "\n",
    "print(f\"Number of ratings: {ratings_count}\")"
   ]
  },
  {
   "cell_type": "code",
   "execution_count": null,
   "metadata": {},
   "outputs": [],
   "source": [
    "\n",
    "webData = []\n",
    "pageNum = 1\n",
    "pagelimit = 12\n",
    "while True:\n",
    "   response = requests.get(url.format(pageNum))\n",
    "   content =response.content\n",
    "   website = BeautifulSoup(content,'html.parser')\n",
    "   if pageNum > pagelimit:\n",
    "      break\n",
    "   title = website.find_all('div',{'class':'product-card__goods-title-container'})\n",
    "   salaries = website.find_all('p', {'class': 'product-item__camecase-wrap'})\n",
    "   rating = website.find_all('div', {'class': 'product-card__selling-proposition-star'})\n",
    "   \n",
    "   for i in range(len(title)):\n",
    "      if i < len(rating):\n",
    "         count_stars = len(rating[i].find_all('i', {'class': 'suiiconfont-critical suiiconfont sui_icon_star_5_16px_1'}))\n",
    "      else:\n",
    "         count_stars = 0\n",
    "      webData.append([\n",
    "         title[i].text,\n",
    "         salaries[i].text.strip(),\n",
    "         count_stars,\n",
    "         ])\n",
    "     \n",
    "      \n",
    "\n",
    "   pageNum += 1"
   ]
  },
  {
   "cell_type": "code",
   "execution_count": null,
   "metadata": {},
   "outputs": [],
   "source": [
    "# Writing to CSV\n",
    "\n",
    "with open(csv_file, 'w', newline='', encoding='utf-8') as file:\n",
    "    writer = csv.writer(file)\n",
    "    writer.writerow(['Title', 'Salary','Rate'])  # Header\n",
    "    writer.writerows(webData)\n",
    "    "
   ]
  }
 ],
 "metadata": {
  "kernelspec": {
   "display_name": "Python 3",
   "language": "python",
   "name": "python3"
  },
  "language_info": {
   "codemirror_mode": {
    "name": "ipython",
    "version": 3
   },
   "file_extension": ".py",
   "mimetype": "text/x-python",
   "name": "python",
   "nbconvert_exporter": "python",
   "pygments_lexer": "ipython3",
   "version": "0.0.0"
  }
 },
 "nbformat": 4,
 "nbformat_minor": 2
}
