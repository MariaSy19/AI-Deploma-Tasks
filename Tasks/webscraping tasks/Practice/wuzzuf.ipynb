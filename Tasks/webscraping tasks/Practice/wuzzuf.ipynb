{
 "cells": [
  {
   "cell_type": "markdown",
   "metadata": {},
   "source": [
    "## Wuzzuf"
   ]
  },
  {
   "cell_type": "code",
   "execution_count": 5,
   "metadata": {},
   "outputs": [],
   "source": [
    "import csv\n",
    "import requests\n",
    "from bs4 import  BeautifulSoup"
   ]
  },
  {
   "cell_type": "code",
   "execution_count": 6,
   "metadata": {},
   "outputs": [],
   "source": [
    "# Define the URL \n",
    "url = 'https://wuzzuf.net/search/jobs/?a=hpb&q=AI%20Engineer&start={}'"
   ]
  },
  {
   "cell_type": "code",
   "execution_count": 7,
   "metadata": {},
   "outputs": [],
   "source": [
    "csv_file_path = 'wuzzuf.csv'"
   ]
  },
  {
   "cell_type": "code",
   "execution_count": 8,
   "metadata": {},
   "outputs": [],
   "source": [
    "with open(csv_file_path, 'w', newline='', encoding='utf-8') as fileCsv:\n",
    "    writer = csv.writer(fileCsv)\n",
    "    pageNum = 1\n",
    "    while True: # Loop until there are no more pages of results to scrape\n",
    "        urll = url.format(pageNum)\n",
    "        response = requests.get(urll)\n",
    "        if response.status_code != 200:\n",
    "            break\n",
    "        html_content = response.content\n",
    "        soup = BeautifulSoup(html_content, \"html.parser\")\n",
    "        \n",
    "        # Find all the articles on this page and add them to our list\n",
    "        jobs = soup.find_all('div',{'class':'css-1gatmva e1v1l3u10'})\n",
    "\n",
    "        for job in jobs:\n",
    "            title = job.h2.a.text.strip()\n",
    "             # Check if the company element exists before accessing its text\n",
    "            company_elem = job.find('a', {'class': 'css-d7j1kk'})\n",
    "            company = company_elem.text.strip() if company_elem else 'N/A'\n",
    "            location = job.find('span',{'class': 'css-5wys0k'}).text.strip()\n",
    "\n",
    "            writer.writerow([title, company, location]) \n",
    "        pageNum +=1"
   ]
  }
 ],
 "metadata": {
  "kernelspec": {
   "display_name": "Python 3",
   "language": "python",
   "name": "python3"
  },
  "language_info": {
   "codemirror_mode": {
    "name": "ipython",
    "version": 3
   },
   "file_extension": ".py",
   "mimetype": "text/x-python",
   "name": "python",
   "nbconvert_exporter": "python",
   "pygments_lexer": "ipython3",
   "version": "3.12.1"
  }
 },
 "nbformat": 4,
 "nbformat_minor": 2
}
