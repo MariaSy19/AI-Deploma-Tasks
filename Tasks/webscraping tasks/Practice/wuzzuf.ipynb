{
 "cells": [
  {
   "cell_type": "markdown",
   "metadata": {},
   "source": [
    "## Wuzzuf"
   ]
  },
  {
   "cell_type": "code",
   "execution_count": 1,
   "metadata": {},
   "outputs": [],
   "source": [
    "\n",
    "import csv\n",
    "import requests\n",
    "from bs4 import  BeautifulSoup\n",
    "\n"
   ]
  },
  {
   "cell_type": "code",
   "execution_count": 2,
   "metadata": {},
   "outputs": [],
   "source": [
    "url = \"https://wuzzuf.net/search/jobs/?a=navbl&q=python&start={}\""
   ]
  },
  {
   "cell_type": "code",
   "execution_count": 3,
   "metadata": {},
   "outputs": [],
   "source": [
    "csv_file = 'wuzzuf.csv'"
   ]
  },
  {
   "cell_type": "code",
   "execution_count": 8,
   "metadata": {},
   "outputs": [],
   "source": [
    "jobData = []\n",
    "pagenum = 0\n",
    "while True:\n",
    "    results = requests.get(url.format(pagenum))\n",
    "    content = results.content\n",
    "    website = BeautifulSoup(content, \"html.parser\")\n",
    "    \n",
    "    pagelimit = int(website.find(\"strong\").text)\n",
    "    \n",
    "    if pagenum > pagelimit // 16:\n",
    "        break\n",
    "    \n",
    "    title = website.find_all(\"h2\", {\"class\": \"css-m604qf\"})\n",
    "    companyname = website.find_all(\"a\", {\"class\": \"css-17s97q8\"})\n",
    "    jobType = website.find_all(\"span\",{'class': \"css-1ve4b75 eoyjyou0\"})\n",
    "    country = website.find_all(\"span\", {\"class\": \"css-5wys0k\"})\n",
    " \n",
    "\n",
    "    \n",
    "    for i in range(len(title)):\n",
    "        jobData.append([\n",
    "            title[i].text.strip(),\n",
    "            companyname[i].text.strip(),\n",
    "            jobType[i].text.strip(),\n",
    "            country[i].text.strip(),])\n",
    "    \n",
    "    pagenum += 1"
   ]
  },
  {
   "cell_type": "code",
   "execution_count": 9,
   "metadata": {},
   "outputs": [],
   "source": [
    "# Write to CSV file\n",
    "with open(csv_file, \"w\", newline=\"\", encoding=\"utf-8\") as fileCsv:\n",
    "    writer = csv.writer(fileCsv)\n",
    "    writer.writerow([\"job titles\", \"company name\",\"job Type\", \"country\"])\n",
    "    writer.writerows(jobData)"
   ]
  }
 ],
 "metadata": {
  "kernelspec": {
   "display_name": "Python 3",
   "language": "python",
   "name": "python3"
  },
  "language_info": {
   "codemirror_mode": {
    "name": "ipython",
    "version": 3
   },
   "file_extension": ".py",
   "mimetype": "text/x-python",
   "name": "python",
   "nbconvert_exporter": "python",
   "pygments_lexer": "ipython3",
   "version": "3.12.1"
  }
 },
 "nbformat": 4,
 "nbformat_minor": 2
}
