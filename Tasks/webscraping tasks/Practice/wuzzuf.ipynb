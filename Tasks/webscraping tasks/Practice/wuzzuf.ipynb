{
 "cells": [
  {
   "cell_type": "markdown",
   "metadata": {},
   "source": [
    "## Wuzzuf"
   ]
  },
  {
   "cell_type": "code",
   "execution_count": 45,
   "metadata": {},
   "outputs": [],
   "source": [
    "\n",
    "import csv\n",
    "import requests\n",
    "from bs4 import  BeautifulSoup\n",
    "\n"
   ]
  },
  {
   "cell_type": "code",
   "execution_count": 46,
   "metadata": {},
   "outputs": [],
   "source": [
    "url = \"https://wuzzuf.net/search/jobs/?a=navbl&q=python&start={}\""
   ]
  },
  {
   "cell_type": "code",
   "execution_count": 47,
   "metadata": {},
   "outputs": [],
   "source": [
    "csv_file_path = 'wuzzuf.csv'"
   ]
  },
  {
   "cell_type": "code",
   "execution_count": 48,
   "metadata": {},
   "outputs": [],
   "source": [
    "jobData = []\n",
    "pagenum = 0\n",
    "while True:\n",
    "    results = requests.get(url.format(pagenum))\n",
    "    content = results.content\n",
    "    soup = BeautifulSoup(content, \"html.parser\")\n",
    "    \n",
    "    pagelimit = int(soup.find(\"strong\").text)\n",
    "    \n",
    "    if pagenum > pagelimit // 16:\n",
    "        break\n",
    "    \n",
    "    jobtitles = soup.find_all(\"h2\", {\"class\": \"css-m604qf\"})\n",
    "    companyname = soup.find_all(\"a\", {\"class\": \"css-17s97q8\"})\n",
    "    placeWork = soup.find_all(\"span\", {\"class\": \"css-5wys0k\"})\n",
    "\n",
    "    \n",
    "    for i in range(len(jobtitles)):\n",
    "        jobData.append([\n",
    "            jobtitles[i].text.strip(),\n",
    "            companyname[i].text.strip(),\n",
    "            placeWork[i].text.strip(),\n",
    "    \n",
    "        ])\n",
    "    \n",
    "    pagenum += 1"
   ]
  },
  {
   "cell_type": "code",
   "execution_count": 49,
   "metadata": {},
   "outputs": [],
   "source": [
    "# Write to CSV file\n",
    "with open(csv_file_path, \"w\", newline=\"\", encoding=\"utf-8\") as fileCsv:\n",
    "    wr = csv.writer(fileCsv)\n",
    "    wr.writerow([\"job titles\", \"company name\", \"Location\"])\n",
    "    wr.writerows(jobData)"
   ]
  }
 ],
 "metadata": {
  "kernelspec": {
   "display_name": "Python 3",
   "language": "python",
   "name": "python3"
  },
  "language_info": {
   "name": "python",
   "version": "3.12.1"
  }
 },
 "nbformat": 4,
 "nbformat_minor": 2
}
