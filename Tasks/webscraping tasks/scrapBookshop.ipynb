{
 "cells": [
  {
   "cell_type": "markdown",
   "metadata": {},
   "source": [
    "## Book Shop"
   ]
  },
  {
   "cell_type": "code",
   "execution_count": 34,
   "metadata": {},
   "outputs": [],
   "source": [
    "import csv\n",
    "import requests\n",
    "from  bs4 import BeautifulSoup "
   ]
  },
  {
   "cell_type": "code",
   "execution_count": 35,
   "metadata": {},
   "outputs": [],
   "source": [
    "base_url = 'https://books.toscrape.com/catalogue/page-{}.html'"
   ]
  },
  {
   "cell_type": "code",
   "execution_count": 36,
   "metadata": {},
   "outputs": [],
   "source": [
    "csv_file_path = 'BookShop.csv'"
   ]
  },
  {
   "cell_type": "code",
   "execution_count": 37,
   "metadata": {},
   "outputs": [],
   "source": [
    "with open(csv_file_path, 'w', newline='', encoding='utf-8') as fileCsv:\n",
    "    writer = csv.writer(fileCsv)\n",
    "    writer.writerow(['Title', 'Price', 'Rating'])\n",
    "\n",
    "    page_number = 1\n",
    "    # Loop through multiple pages\n",
    "    while True:\n",
    "        url = base_url.format(page_number)\n",
    "\n",
    "        # Send an HTTP GET request to the URL\n",
    "        response = requests.get(url)\n",
    "        if response.status_code != 200:\n",
    "            break\n",
    "\n",
    "        html_content = response.content\n",
    "\n",
    "        # Create a BeautifulSoup object to parse the HTML content\n",
    "        soup = BeautifulSoup(html_content, 'html.parser')\n",
    "\n",
    "        # Find all book article elements on the page\n",
    "        books = soup.find_all('article', class_='product_pod')\n",
    "\n",
    "        # Loop through each book and extract relevant information\n",
    "        for book in books:\n",
    "            title = book.h3.a['title']\n",
    "            price = book.find('p', class_='price_color').text\n",
    "            rating = 'No rating' if 'star-rating' not in str(book) else book.find('p', class_='star-rating')['class'][-1]\n",
    "            \n",
    "            writer.writerow([title, price, rating])\n",
    "\n",
    "        page_number += 1\n",
    "    "
   ]
  }
 ],
 "metadata": {
  "kernelspec": {
   "display_name": "Python 3",
   "language": "python",
   "name": "python3"
  },
  "language_info": {
   "codemirror_mode": {
    "name": "ipython",
    "version": 3
   },
   "file_extension": ".py",
   "mimetype": "text/x-python",
   "name": "python",
   "nbconvert_exporter": "python",
   "pygments_lexer": "ipython3",
   "version": "3.12.1"
  }
 },
 "nbformat": 4,
 "nbformat_minor": 2
}
