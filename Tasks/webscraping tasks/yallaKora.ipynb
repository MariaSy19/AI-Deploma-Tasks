{
 "cells": [
  {
   "cell_type": "markdown",
   "metadata": {},
   "source": [
    "## YallaKora"
   ]
  },
  {
   "cell_type": "code",
   "execution_count": null,
   "metadata": {},
   "outputs": [],
   "source": [
    "import requests\n",
    "from bs4 import BeautifulSoup"
   ]
  },
  {
   "cell_type": "code",
   "execution_count": null,
   "metadata": {},
   "outputs": [],
   "source": [
    "#Define the URL of the match center\n",
    "url = 'https://www.yallakora.com/Match-Center/?date=18/21/2023'"
   ]
  },
  {
   "cell_type": "code",
   "execution_count": null,
   "metadata": {},
   "outputs": [],
   "source": [
    "#send an HTTP GET request to the URL\n",
    "response = requests.get(url)"
   ]
  },
  {
   "cell_type": "code",
   "execution_count": null,
   "metadata": {},
   "outputs": [],
   "source": [
    "#Click here to ask  Blaackbox ti help you code faster\n",
    "#response"
   ]
  },
  {
   "cell_type": "code",
   "execution_count": null,
   "metadata": {},
   "outputs": [],
   "source": [
    "# Get response content\n",
    "html_content = response.content\n"
   ]
  },
  {
   "cell_type": "code",
   "execution_count": null,
   "metadata": {},
   "outputs": [],
   "source": [
    "soup = BeautifulSoup(html_content,'html.parser')\n"
   ]
  },
  {
   "cell_type": "code",
   "execution_count": null,
   "metadata": {},
   "outputs": [],
   "source": [
    "championship = soup.find_all('div', class_= 'matchCard')\n"
   ]
  },
  {
   "cell_type": "code",
   "execution_count": null,
   "metadata": {},
   "outputs": [],
   "source": [
    "#Get all the championship titles\n",
    "championship_title = championship[0].contents[1].find('h2').text.strip()\n",
    "#championship_title"
   ]
  },
  {
   "cell_type": "code",
   "execution_count": null,
   "metadata": {},
   "outputs": [],
   "source": [
    "# Get all the championship titles\n",
    "for i in range(len(championship)):\n",
    "    print(championship[i].contents[1].find('h2').text.strip())"
   ]
  },
  {
   "cell_type": "code",
   "execution_count": null,
   "metadata": {},
   "outputs": [],
   "source": [
    "\n",
    "for i in range (len(championship)):\n",
    "    matches = championship[i].contents[3].find_all('div', class_='teamCntnr')\n",
    "    chnelName = championship[i].contents[3].find('div',{'class': 'channel icon-channel'})\n",
    "#matches\n"
   ]
  },
  {
   "cell_type": "code",
   "execution_count": null,
   "metadata": {},
   "outputs": [],
   "source": [
    "#chnelName"
   ]
  },
  {
   "cell_type": "code",
   "execution_count": null,
   "metadata": {},
   "outputs": [],
   "source": [
    "matches_details = []\n",
    "for i in range (len(championship)):\n",
    "    print(championship[i].contents[1].find('h2').text.strip(),'\\n')\n",
    "    matches = championship[i].contents[3].find_all(\"div\",{'class':'teamCntnr'})\n",
    "    channels = championship[i].contents[3].find(\"div\",{'class':'channel icon-channel'})\n",
    "    for j in range (len(matches)):\n",
    "        team_A = matches[j].contents[1].find('div',class_=\"teamA\").find('p').text.strip()\n",
    "        team_B = matches[j].contents[1].find('div',class_=\"teamB\").find('p').text.strip()  \n",
    "        results = matches[j].find('div', {'class':'MResult'}).find_all('span', {'class':'score'})\n",
    "        score = f'{results[0].text.strip()} - {results[1].text.strip()}'\n",
    "        time = matches[j].contents[1].find('div',class_=\"MResult\").find('span',{'class':'time'}).text.strip()\n",
    "        try:\n",
    "            channel = championship[i].contents[3].find_all(\"div\", {'class': 'channel icon-channel'})[j].text.strip()\n",
    "        except (IndexError, AttributeError) as e: \n",
    "            channel = \"N/A\"\n",
    "        \n",
    "        print(f'{team_A} {score} {team_B}\\n {time}')\n",
    "        print(f'{channel}\\n')\n",
    "    print('=='*15)"
   ]
  }
 ],
 "metadata": {
  "kernelspec": {
   "display_name": "Python 3",
   "language": "python",
   "name": "python3"
  },
  "language_info": {
   "codemirror_mode": {
    "name": "ipython",
    "version": 3
   },
   "file_extension": ".py",
   "mimetype": "text/x-python",
   "name": "python",
   "nbconvert_exporter": "python",
   "pygments_lexer": "ipython3",
   "version": "0.0.0"
  }
 },
 "nbformat": 4,
 "nbformat_minor": 2
}
