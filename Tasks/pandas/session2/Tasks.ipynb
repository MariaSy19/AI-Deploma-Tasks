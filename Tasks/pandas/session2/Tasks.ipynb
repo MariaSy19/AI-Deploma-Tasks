{
 "cells": [
  {
   "cell_type": "markdown",
   "metadata": {},
   "source": [
    "### Task1 \n",
    "#### What is lambda expression?\n",
    "- A lambda expression in Python is a concise way to create anonymous functions. It is often used for short, simple operations that can be defined in a single line. The syntax for a lambda function is: '' lambda arguments: expression ''\n",
    "example:\n",
    "square = lambda x: x ** 2\n"
   ]
  },
  {
   "cell_type": "markdown",
   "metadata": {},
   "source": [
    "### Task2\n",
    "#### What is the difference between relational database and non-relational database \n",
    "1. Data Structure:\n",
    "RDBMS: Structured data in tables with predefined schema.\n",
    "NoSQL: Varied data models (e.g., key-value pairs, documents) without rigid schema.\n",
    "\n",
    "\n",
    "2. Schema:\n",
    "\n",
    "    RDBMS: Requires a fixed schema defined before data insertion.\n",
    "\n",
    "    NoSQL: Supports dynamic or schema-less data insertion.\n",
    "\n",
    "\n",
    "3. Scalability:\n",
    "\n",
    "   RDBMS: Primarily scales vertically (increasing server power).\n",
    "\n",
    "   NoSQL: Scales horizontally by adding more servers for distributed processing.\n",
    "\n",
    "\n",
    "4. Query Language:\n",
    "\n",
    "   RDBMS: Mainly uses SQL (Structured Query Language).\n",
    "\n",
    "   NoSQL: May have various query languages or APIs, sometimes less sophisticated than SQL.\n",
    "\n",
    "\n",
    "5. Use Cases:\n",
    "\n",
    "   RDBMS: Complex relationships, data integrity; common in traditional business applications.\n",
    "\n",
    "   NoSQL: Rapidly changing data, large-scale distributed systems, flexibility in data models; common in web applications.\n",
    "\n",
    "\n",
    "6. Consistency and Transactions:\n",
    "\n",
    "   RDBMS: Emphasizes ACID properties for transaction consistency.\n",
    "\n",
    "   NoSQL: Prioritizes factors like availability and partition tolerance, may relax consistency in certain scenarios."
   ]
  },
  {
   "cell_type": "markdown",
   "metadata": {},
   "source": [
    "### Task3\n",
    "#### What is vector Database?\n",
    "vector databases make it possible for computer programs to draw comparisons, identify relationships, and understand context. This enables the creation of advanced artificial intelligence (AI) programs like large language models (LLMs)."
   ]
  }
 ],
 "metadata": {
  "kernelspec": {
   "display_name": "Python 3",
   "language": "python",
   "name": "python3"
  },
  "language_info": {
   "name": "python",
   "version": "3.12.1"
  }
 },
 "nbformat": 4,
 "nbformat_minor": 2
}
