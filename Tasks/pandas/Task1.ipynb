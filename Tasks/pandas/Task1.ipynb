{
 "cells": [
  {
   "cell_type": "markdown",
   "metadata": {},
   "source": [
    "## Read all sheets of excel file using pandas"
   ]
  },
  {
   "cell_type": "code",
   "execution_count": 66,
   "metadata": {},
   "outputs": [],
   "source": [
    "import pandas as pd"
   ]
  },
  {
   "cell_type": "code",
   "execution_count": 67,
   "metadata": {},
   "outputs": [],
   "source": [
    "file_path = r\"C:/Users/miree/OneDrive/Desktop/diploma AI/AI Course Material/Material/Pandas/3_different_ways_of_creating_dataframe/weather_data.xlsx\""
   ]
  },
  {
   "cell_type": "code",
   "execution_count": 68,
   "metadata": {},
   "outputs": [],
   "source": [
    "# sheet_name=None reads all sheets from the Excel file and stores them in a dictionary of DataFrames.\n",
    "sheets = pd.read_excel(file_path, sheet_name=None)"
   ]
  },
  {
   "cell_type": "code",
   "execution_count": 70,
   "metadata": {},
   "outputs": [
    {
     "name": "stdout",
     "output_type": "stream",
     "text": [
      "Content of sheet 'AbdElRahman':\n",
      "\n",
      "         day  temperature  windspeed  event\n",
      "0 2017-01-01           32          6   Rain\n",
      "1 2017-01-02           35          7  Sunny\n",
      "2 2017-01-03           28          2   Snow\n",
      "\n",
      "==================================================\n",
      "\n",
      "Content of sheet 'NewSheet':\n",
      "\n",
      "         day  temperature  windspeed     event\n",
      "0 2017-01-01           32          6      Rain\n",
      "1 2017-01-02           35          7     Sunny\n",
      "2 2017-01-03           28          2  No Event\n",
      "\n",
      "==================================================\n",
      "\n"
     ]
    }
   ],
   "source": [
    "for sheet_name, i in sheets.items():\n",
    "    print(f\"Content of sheet '{sheet_name}':\\n\")\n",
    "    print(i)\n",
    "    print(\"\\n\" + \"=\"*50 + \"\\n\") "
   ]
  }
 ],
 "metadata": {
  "kernelspec": {
   "display_name": "Python 3",
   "language": "python",
   "name": "python3"
  },
  "language_info": {
   "codemirror_mode": {
    "name": "ipython",
    "version": 3
   },
   "file_extension": ".py",
   "mimetype": "text/x-python",
   "name": "python",
   "nbconvert_exporter": "python",
   "pygments_lexer": "ipython3",
   "version": "3.12.1"
  }
 },
 "nbformat": 4,
 "nbformat_minor": 2
}
