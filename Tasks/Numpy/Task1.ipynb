{
 "cells": [
  {
   "cell_type": "markdown",
   "metadata": {},
   "source": [
    "### What the difference between covariance and correction \n",
    "\n",
    "-are two terms are opposed and are both used in statistics and regression  analysis."
   ]
  },
  {
   "cell_type": "markdown",
   "metadata": {},
   "source": [
    "#### covariance:\n",
    "\n",
    "-  shows how the two variables difference\n",
    "\n",
    "#### correction:\n",
    "\n",
    "- show how the two variables are related"
   ]
  },
  {
   "cell_type": "markdown",
   "metadata": {},
   "source": [
    "- reference: https://www.simplilearn.com/covariance-vs-correlation-article"
   ]
  }
 ],
 "metadata": {
  "kernelspec": {
   "display_name": "Python 3",
   "language": "python",
   "name": "python3"
  },
  "language_info": {
   "name": "python",
   "version": "3.12.1"
  }
 },
 "nbformat": 4,
 "nbformat_minor": 2
}
