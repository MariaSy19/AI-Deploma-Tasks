{
 "cells": [
  {
   "cell_type": "markdown",
   "metadata": {},
   "source": [
    "# Task-1"
   ]
  },
  {
   "cell_type": "markdown",
   "metadata": {},
   "source": [
    "### Sampling techniques\n"
   ]
  },
  {
   "cell_type": "markdown",
   "metadata": {},
   "source": [
    "- 1- Simple random sampling \n",
    "\n",
    "( You want to select a simple random sample of 1000 employees of a social media marketing company.\n",
    "\n",
    " You assign a number to every employee in the company database from 1 to 1000,\n",
    "  and use a random number generator to select 100 numbers.)\n",
    "- 2- Systematic sampling ( بختار  عينة عشوائية بس بناءا على عدد معين مثلا كل 3 عينات باخد عينة وبضل ماشية بنفس السيستم)\n",
    "- 3- Stratified sampling (منقسم ل جروبات وبعدين باخد عينات من كل جروب)\n",
    "- 4- Cluster sampling"
   ]
  },
  {
   "cell_type": "markdown",
   "metadata": {},
   "source": [
    "# Task-2"
   ]
  },
  {
   "cell_type": "markdown",
   "metadata": {},
   "source": [
    "### The types of data distribution \n",
    "- 1-Discrete:\n",
    "\n",
    "  -Uniform Distribution: A type of random variable where all possible values are equally likely to occur.\n",
    "   Example: Rolling a die (6 sides)\n",
    "\n",
    "  -poisson Distribution: A discrete probability distribution that is used to model the number of events that happen within a given time.\n",
    "\n",
    "  -geometric  Distribution: A discrete probability distribution of a positive integer random variable, each of whose potential outcomes occurs.\n",
    "\n",
    "  -binomial  Distribution: A discrete probability distribution that describes the number of successes in a fixed number of independent yes.\n",
    "\n",
    "- 2-Continuous: \n",
    "\n",
    "  -Normal  Distribution: A continuous probability distribution characterized by a symmetric bell curve, which is symmetrical around its.\n",
    "\n",
    "  -Standard  Normal Distribution: A continuous probability distribution that is symmetric about the mean, and has a bell-sh.\n",
    "\n",
    "  -t-Distribution: A type of continuous probability distribution that is commonly used in statistics for the analysis of samples.\n",
    "\n",
    "  -chi  square distribution, normal distribution, uniform distribution, exponential distribution etc.\n",
    "  \n",
    "  -Exponential  Distribution: A continuous probability distribution that is commonly used to model the time between events in systems with a.\n",
    "  "
   ]
  },
  {
   "cell_type": "markdown",
   "metadata": {},
   "source": [
    "# Task-3"
   ]
  },
  {
   "cell_type": "markdown",
   "metadata": {},
   "source": [
    "### Types of statistical test \n",
    "(when to use each with examples)\n",
    "Certainly, let's delve into more details about some common statistical tests:\n",
    "\n",
    "1. **T-Test:**\n",
    "   - **Use Case:** Compare means of two independent groups.\n",
    "   - **Types:** Independent samples t-test, paired samples t-test.\n",
    "   - **Visualization:** Histograms or boxplots for each group, showing means.\n",
    "\n",
    "2. **ANOVA (Analysis of Variance):**\n",
    "   - **Use Case:** Compare means of three or more groups.\n",
    "   - **Types:** One-way ANOVA for a single factor, Two-way ANOVA for two factors.\n",
    "   - **Visualization:** Box plots, bar charts, or interaction plots.\n",
    "\n",
    "3. **Chi-Square Test:**\n",
    "   - **Use Case:** Test independence between categorical variables.\n",
    "   - **Types:** Chi-square test for independence, Fisher's exact test (for small sample sizes).\n",
    "   - **Visualization:** Heatmaps or clustered bar charts.\n",
    "\n",
    "4. **Regression Analysis:**\n",
    "   - **Use Case:** Predict the relationship between a dependent variable and one or more independent variables.\n",
    "   - **Types:** Simple linear regression (one predictor), Multiple linear regression (multiple predictors).\n",
    "   - **Visualization:** Scatter plots with regression lines, residual plots.\n",
    "\n",
    "5. **Correlation Analysis:**\n",
    "   - **Use Case:** Measure the strength and direction of a linear relationship between two continuous variables.\n",
    "   - **Type:** Pearson correlation coefficient for linear relationships, Spearman or Kendall rank correlation for non-linear relationships.\n",
    "   - **Visualization:** Scatter plots, correlation matrices, or heatmaps.\n",
    "\n",
    "6. **Paired Samples T-Test:**\n",
    "   - **Use Case:** Compare means of two related groups (matched pairs).\n",
    "   - **Visualization:** Line plots or bar charts with connected lines.\n",
    "\n",
    "7. **Wilcoxon Signed-Rank Test:**\n",
    "   - **Use Case:** Non-parametric alternative to paired samples t-test when data is not normally distributed.\n",
    "   - **Visualization:** Similar to paired samples t-test, but suitable for non-parametric data.\n",
    "\n",
    "8. **Mann-Whitney U Test:**\n",
    "   - **Use Case:** Non-parametric test to compare means of two independent groups.\n",
    "   - **Visualization:** Box plots or histograms for each group.\n",
    "\n",
    "9. **Kruskal-Wallis Test:**\n",
    "   - **Use Case:** Non-parametric alternative to one-way ANOVA for three or more independent groups.\n",
    "   - **Visualization:** Box plots or bar charts for each group.\n",
    "\n",
    "10. **Logistic Regression:**\n",
    "    - **Use Case:** Model the probability of a binary outcome.\n",
    "    - **Visualization:** ROC curves, confusion matrices, calibration plots.\n",
    "\n",
    "\n",
    "- refrerence: https://www.scribbr.com/statistics/statistical-tests/"
   ]
  },
  {
   "cell_type": "markdown",
   "metadata": {},
   "source": [
    "# Task-4\n",
    "### What is p value?\n",
    "\n",
    "- p-value: \n",
    "\n",
    "The p-value is a numerical measure that helps assess the strength of evidence against the null hypothesis. It ranges from 0 to 1. A low p-value (typically less than a predefined significance level, often 0.05) indicates strong evidence to reject the null hypothesis.\n",
    "\n",
    "  If p-value ≤ significance level (commonly 0.05), you reject the null hypothesis.\n",
    "  \n",
    "  If p-value > significance level, you fail to reject the null hypothesis."
   ]
  }
 ],
 "metadata": {
  "kernelspec": {
   "display_name": "Python 3",
   "language": "python",
   "name": "python3"
  },
  "language_info": {
   "name": "python",
   "version": "3.12.1"
  }
 },
 "nbformat": 4,
 "nbformat_minor": 2
}
