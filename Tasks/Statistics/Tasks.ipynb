{
 "cells": [
  {
   "cell_type": "markdown",
   "metadata": {},
   "source": [
    "# Task-1"
   ]
  },
  {
   "cell_type": "markdown",
   "metadata": {},
   "source": [
    "### Sampling techniques\n"
   ]
  },
  {
   "cell_type": "markdown",
   "metadata": {},
   "source": [
    "- 1- Simple random sampling \n",
    "\n",
    "( You want to select a simple random sample of 1000 employees of a social media marketing company.\n",
    "\n",
    " You assign a number to every employee in the company database from 1 to 1000,\n",
    "  and use a random number generator to select 100 numbers.)\n",
    "- 2- Systematic sampling ( بختار  عينة عشوائية بس بناءا على عدد معين مثلا كل 3 عينات باخد عينة وبضل ماشية بنفس السيستم)\n",
    "- 3- Stratified sampling (منقسم ل جروبات وبعدين باخد عينات من كل جروب)\n",
    "- 4- Cluster sampling"
   ]
  },
  {
   "cell_type": "markdown",
   "metadata": {},
   "source": [
    "# Task-2"
   ]
  },
  {
   "cell_type": "markdown",
   "metadata": {},
   "source": [
    "### The types of data distribution \n",
    "- 1-Discrete:\n",
    "\n",
    "  -Uniform Distribution: A type of random variable where all possible values are equally likely to occur.\n",
    "   Example: Rolling a die (6 sides)\n",
    "\n",
    "  -poisson Distribution: A discrete probability distribution that is used to model the number of events that happen within a given time.\n",
    "\n",
    "  -geometric  Distribution: A discrete probability distribution of a positive integer random variable, each of whose potential outcomes occurs.\n",
    "\n",
    "  -binomial  Distribution: A discrete probability distribution that describes the number of successes in a fixed number of independent yes.\n",
    "\n",
    "- 2-Continuous: \n",
    "\n",
    "  -Normal  Distribution: A continuous probability distribution characterized by a symmetric bell curve, which is symmetrical around its.\n",
    "\n",
    "  -Standard  Normal Distribution: A continuous probability distribution that is symmetric about the mean, and has a bell-sh.\n",
    "\n",
    "  -t-Distribution: A type of continuous probability distribution that is commonly used in statistics for the analysis of samples.\n",
    "\n",
    "  -chi  square distribution, normal distribution, uniform distribution, exponential distribution etc.\n",
    "  \n",
    "  -Exponential  Distribution: A continuous probability distribution that is commonly used to model the time between events in systems with a.\n",
    "  "
   ]
  },
  {
   "cell_type": "markdown",
   "metadata": {},
   "source": [
    "# Task-3"
   ]
  },
  {
   "cell_type": "markdown",
   "metadata": {},
   "source": [
    "### Types of statistical test \n",
    "(when to use each with examples)\n",
    "\n",
    "- "
   ]
  }
 ],
 "metadata": {
  "kernelspec": {
   "display_name": "Python 3",
   "language": "python",
   "name": "python3"
  },
  "language_info": {
   "name": "python",
   "version": "3.12.1"
  }
 },
 "nbformat": 4,
 "nbformat_minor": 2
}
